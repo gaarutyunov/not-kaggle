{
 "cells": [
  {
   "cell_type": "code",
   "execution_count": 12,
   "outputs": [],
   "source": [
    "import numpy as np\n",
    "from sklearn.metrics import roc_auc_score\n",
    "from sklearn.linear_model import LogisticRegression\n",
    "from sklearn.model_selection import train_test_split"
   ],
   "metadata": {
    "collapsed": false,
    "pycharm": {
     "name": "#%%\n"
    }
   }
  },
  {
   "cell_type": "markdown",
   "source": [
    "Вопрос: приведите собственный (не из лекций) пример, когда для train и test выборок P(X) отличаются, но P(Y|X) не отличаются.\n",
    "\n",
    "Ответ: out-of-time выборка - например характеристики X меняются со временем, но зависимость Y от X остается"
   ],
   "metadata": {
    "collapsed": false,
    "pycharm": {
     "name": "#%% md\n"
    }
   }
  },
  {
   "cell_type": "markdown",
   "source": [
    "Вопрос: имея две одинаково распределенные выборки, каким образом можно ”раздуть” adversarial AUC score с примерно 0.5 до достаточно высокой величины?\n",
    "\n",
    "Ответ: можно отфильтровать одну из выборок"
   ],
   "metadata": {
    "collapsed": false,
    "pycharm": {
     "name": "#%% md\n"
    }
   }
  },
  {
   "cell_type": "code",
   "execution_count": 85,
   "outputs": [],
   "source": [
    "# Создаем две выборки и фильтруем вторую\n",
    "X_train = np.random.random(size=(10000, 1))\n",
    "X_test = np.random.random(size=(20000, 1))\n",
    "X_test = X_test[X_test < 0.2, None]"
   ],
   "metadata": {
    "collapsed": false,
    "pycharm": {
     "name": "#%%\n"
    }
   }
  },
  {
   "cell_type": "code",
   "execution_count": 86,
   "outputs": [],
   "source": [
    "# Объединяем их, создаем adversarial таргет\n",
    "X = np.vstack((X_train, X_test))\n",
    "y_adv = np.zeros(X.shape[0])\n",
    "test_id = range(X_train.shape[0], X.shape[0])\n",
    "y_adv[test_id] = 1\n",
    "\n",
    "X_adv_train, X_adv_test, y_adv_train, y_adv_test = train_test_split(X, y_adv)"
   ],
   "metadata": {
    "collapsed": false,
    "pycharm": {
     "name": "#%%\n"
    }
   }
  },
  {
   "cell_type": "code",
   "execution_count": 89,
   "outputs": [
    {
     "name": "stdout",
     "output_type": "stream",
     "text": [
      "ROC AUC: 0.752\n"
     ]
    }
   ],
   "source": [
    "model = LogisticRegression()\n",
    "model.fit(X_adv_train, y_adv_train)\n",
    "pred = model.predict(X_adv_test)\n",
    "auc = roc_auc_score(y_adv_test, pred)\n",
    "print(f'ROC AUC: {auc:.3f}')"
   ],
   "metadata": {
    "collapsed": false,
    "pycharm": {
     "name": "#%%\n"
    }
   }
  }
 ],
 "metadata": {
  "kernelspec": {
   "display_name": "Python 3",
   "language": "python",
   "name": "python3"
  },
  "language_info": {
   "codemirror_mode": {
    "name": "ipython",
    "version": 2
   },
   "file_extension": ".py",
   "mimetype": "text/x-python",
   "name": "python",
   "nbconvert_exporter": "python",
   "pygments_lexer": "ipython2",
   "version": "2.7.6"
  }
 },
 "nbformat": 4,
 "nbformat_minor": 0
}
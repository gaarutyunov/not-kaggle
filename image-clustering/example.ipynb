{
 "cells": [
  {
   "cell_type": "markdown",
   "source": [
    "Для оценки расстояния можно использовать признаки, извлеченные из фото предобученной нейронкой - таким образом мы сможем группировать фото не только по схожести пикселей, но и по схожести контента (наличию конкретных предметов, например)"
   ],
   "metadata": {
    "collapsed": false,
    "pycharm": {
     "name": "#%% md\n"
    }
   }
  },
  {
   "cell_type": "code",
   "execution_count": 4,
   "outputs": [],
   "source": [
    "from pathlib import Path\n",
    "import numpy as np\n",
    "from tqdm.notebook import tqdm\n",
    "import timm\n",
    "import torch\n",
    "from PIL import Image\n",
    "\n",
    "model = timm.create_model('resnet50', num_classes=0, pretrained=True)"
   ],
   "metadata": {
    "collapsed": false,
    "pycharm": {
     "name": "#%%\n"
    }
   }
  },
  {
   "cell_type": "code",
   "execution_count": 5,
   "outputs": [
    {
     "data": {
      "text/plain": "  0%|          | 0/3 [00:00<?, ?it/s]",
      "application/vnd.jupyter.widget-view+json": {
       "version_major": 2,
       "version_minor": 0,
       "model_id": "4b1cb52e3c6d4c848f04579eb6abb591"
      }
     },
     "metadata": {},
     "output_type": "display_data"
    }
   ],
   "source": [
    "im_to_features = {}\n",
    "image_dir = Path('images')\n",
    "for fp in tqdm(list(image_dir.glob('*'))):\n",
    "\n",
    "    im = np.array(Image.open(fp), dtype=np.float32)\n",
    "    im = torch.from_numpy(im).transpose(2, 0)[None]\n",
    "    im_to_features[fp.name] = model(im)"
   ],
   "metadata": {
    "collapsed": false,
    "pycharm": {
     "name": "#%%\n"
    }
   }
  },
  {
   "cell_type": "code",
   "execution_count": 7,
   "outputs": [
    {
     "name": "stdout",
     "output_type": "stream",
     "text": [
      "Расстояние от 0 copy.jpg до 1.webp: 2.136\n",
      "Расстояние от 0 copy.jpg до 0.jpg: 0.731\n",
      "Расстояние от 1.webp до 0.jpg: 1.902\n"
     ]
    }
   ],
   "source": [
    "from itertools import combinations\n",
    "\n",
    "for im1, im2 in combinations(im_to_features, r=2):\n",
    "    feat1 = im_to_features[im1].detach()\n",
    "    feat2 = im_to_features[im2].detach()\n",
    "    d = np.linalg.norm(feat1 - feat2)\n",
    "    print(f'Расстояние от {im1} до {im2}: {d:.3f}')"
   ],
   "metadata": {
    "collapsed": false,
    "pycharm": {
     "name": "#%%\n"
    }
   }
  },
  {
   "cell_type": "code",
   "execution_count": null,
   "outputs": [],
   "source": [],
   "metadata": {
    "collapsed": false,
    "pycharm": {
     "name": "#%%\n"
    }
   }
  }
 ],
 "metadata": {
  "kernelspec": {
   "display_name": "Python 3",
   "language": "python",
   "name": "python3"
  },
  "language_info": {
   "codemirror_mode": {
    "name": "ipython",
    "version": 2
   },
   "file_extension": ".py",
   "mimetype": "text/x-python",
   "name": "python",
   "nbconvert_exporter": "python",
   "pygments_lexer": "ipython2",
   "version": "2.7.6"
  }
 },
 "nbformat": 4,
 "nbformat_minor": 0
}